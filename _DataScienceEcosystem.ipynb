{
  "metadata": {
    "kernelspec": {
      "name": "xpython",
      "display_name": "Python 3.13 (XPython)",
      "language": "python"
    },
    "language_info": {
      "file_extension": ".py",
      "mimetype": "text/x-python",
      "name": "python",
      "version": "3.13.1"
    }
  },
  "nbformat_minor": 5,
  "nbformat": 4,
  "cells": [
    {
      "id": "a9594776-5f80-4419-834d-c0d3ff96706f",
      "cell_type": "markdown",
      "source": "# Data Science Tools and Ecosystem\nThis tool summarizes Data Science Tools and ecosystem ",
      "metadata": {}
    },
    {
      "id": "f4ed6fab-5482-4086-ad51-f0751efda3b6",
      "cell_type": "markdown",
      "source": "## Author \nBlondie Ndebele",
      "metadata": {}
    },
    {
      "id": "d890f756-780d-40f6-acb7-ca07266b95b8",
      "cell_type": "markdown",
      "source": "**Objectives:**\n\n- List popular languages for Data Science  \n- Identify commonly used libraries in Data Science  \n- Format Markdown cells with headings, lists, and tables  \n- Convert minutes to hours using code \n",
      "metadata": {}
    },
    {
      "id": "d1b450d0-c0fe-4d50-99ee-cf5d7d6e3ce9",
      "cell_type": "markdown",
      "source": "Some of the popular programming languages that Data Scientists use are:\n\n1. Python  \n2. R  \n3. SQL  \n4. Julia\n",
      "metadata": {}
    },
    {
      "id": "2dd03f86-e2bd-461a-9c69-5194819b915c",
      "cell_type": "markdown",
      "source": "Some of the commonly used libraries used by Data Scientists include:\n\n1. NumPy  \n2. pandas  \n3. Matplotlib  \n4. scikit-learn  \n5. TensorFlow\n",
      "metadata": {}
    },
    {
      "id": "9c224904-a1fb-4275-a071-52b933ac0bf3",
      "cell_type": "markdown",
      "source": "| Data Science Tools        |\n|----------------------------|\n| Jupyter Notebook           |\n| RStudio                    |\n| VS Code                    |\n\n",
      "metadata": {}
    },
    {
      "id": "182c814c-a1b1-4f81-b792-dc3f528c91a5",
      "cell_type": "markdown",
      "source": "### Below are a few examples of evaluating arithmetic expressions in Python",
      "metadata": {}
    },
    {
      "id": "548fdcad-d09b-4d96-871c-80dff0002c55",
      "cell_type": "code",
      "source": "(3*45)- 23 #this is a simple arithmetic expression\n",
      "metadata": {
        "trusted": true
      },
      "outputs": [
        {
          "execution_count": 5,
          "output_type": "execute_result",
          "data": {
            "text/plain": "112"
          },
          "metadata": {}
        }
      ],
      "execution_count": 5
    },
    {
      "id": "8ca7720f-d1a0-4246-b2f9-78fd3ed887a2",
      "cell_type": "code",
      "source": "# This will convert 200 minutes to hours by dividing by 60\n200 / 60\n",
      "metadata": {
        "trusted": true
      },
      "outputs": [
        {
          "execution_count": 6,
          "output_type": "execute_result",
          "data": {
            "text/plain": "3.3333333333333335"
          },
          "metadata": {}
        }
      ],
      "execution_count": 6
    }
  ]
}